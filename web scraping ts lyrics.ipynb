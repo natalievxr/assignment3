{
 "cells": [
  {
   "cell_type": "code",
   "execution_count": 134,
   "id": "7ee80ba8-6b1c-4962-b8eb-fb30f971a7d6",
   "metadata": {},
   "outputs": [],
   "source": [
    "import pandas as pd"
   ]
  },
  {
   "cell_type": "code",
   "execution_count": 135,
   "id": "77cf02eb-8b09-41a4-acea-5892e3898b30",
   "metadata": {},
   "outputs": [],
   "source": [
    "import requests"
   ]
  },
  {
   "cell_type": "code",
   "execution_count": 136,
   "id": "ea9cdf57-435d-4dca-acab-1ade518592a3",
   "metadata": {},
   "outputs": [
    {
     "name": "stdout",
     "output_type": "stream",
     "text": [
      "<!DOCTYPE html>\n",
      "<html lang=\"en\">\n",
      "<head>\n",
      "<meta charset=\"utf-8\">\n",
      "<meta http-equiv=\"X-UA-Compatible\" content=\"IE=edge\">\n",
      "<meta name=\"viewport\" content=\"width=device-width, initial-scale=1\">\n",
      "<meta name=\"description\" content=\"Taylor Swift &quot;cardigan&quot;: Vintage tee, brand new phone High heels on cobblestones When you are young, they assume you know not...\"> \n",
      "<meta name=\"keywords\" content=\"cardigan lyrics, Taylor Swift cardigan lyrics, Taylor Swift lyrics\">\n",
      "<meta name=\"robots\" content=\"noarchive\">\n",
      "<meta property=\"og:image\" content=\"//www.azlyrics.com/az_logo_tr.png\">\n",
      "<title>Taylor Swift - cardigan Lyrics | AZLyrics.com</title>\n",
      "\n",
      "<link rel=\"canonical\" href=\"https://www.azlyrics.com/lyrics/taylorswift/cardigan.html\" />\n",
      "<link rel=\"stylesheet\" href=\"https://maxcdn.bootstrapcdn.com/bootstrap/3.3.4/css/bootstrap.min.css\">\n",
      "<link rel=\"stylesheet\" href=\"/local/az.css\">\n",
      "\n",
      "<!-- HTML5 shim and Respond.js for IE8 support of HTML5 elements and media queries -->\n",
      "<!--[if lt IE 9]>\n",
      "<script src=\"https://oss.maxcdn.com/html5shiv/3.7.2/html5shiv.min.js\"></script>\n",
      "<script src=\"https://oss.maxcdn.com/respond/1.4.2/respond.min.js\"></script>\n",
      "<![endif]-->\n",
      "<script type=\"text/javascript\">\n",
      "window.rtkGPTSlotsTargeting = [\n",
      "    [\n",
      "        [\"genre\", \"pop\"],\n",
      "        [\"artist\", \"Taylor Swift\"]\n",
      "    ]\n",
      "];\n",
      "</script>\n",
      "\n",
      "<!-- Start WKND tag. Deploy at the beginning of document head. -->\n",
      "<!-- Tag for Bandsintown | AZ Lyrics (azlyrics.com) -->\n",
      "<script>\n",
      "\t(function(d) {\n",
      "\t\tvar e = d.createElement('script');\n",
      "\t\te.src = d.location.protocol + '//tag.wknd.ai/6284/i.js';\n",
      "\t\te.async = true;\n",
      "\t\td.getElementsByTagName(\"head\")[0].appendChild(e);\n",
      "\t}(document));\n",
      "</script>\n",
      "<!-- End WKND tag -->\n",
      "\n",
      "<!-- Google tag (gtag.js) -->\n",
      "<script async src=\"https://www.googletagmanager.com/gtag/js?id=G-7DQK0JTQTQ\"></script>\n",
      "<script>\n",
      "  window.dataLayer = window.dataLayer || [];\n",
      "  function gtag(){dataLayer.push(arguments);}\n",
      "  gtag('js', new Date());\n",
      "\n",
      "  gtag('config', 'G-7DQK0JTQTQ');\n",
      "</script>\n",
      "...\n"
     ]
    }
   ],
   "source": [
    "response = requests.get(\"https://www.azlyrics.com/lyrics/taylorswift/cardigan.html\")\n",
    "response\n",
    "\n",
    "html_string = response.text\n",
    "print(html_string[:2000] + \"...\")"
   ]
  },
  {
   "cell_type": "code",
   "execution_count": 137,
   "id": "f6252659-33bc-474d-a75c-b838ccb131de",
   "metadata": {},
   "outputs": [],
   "source": [
    "from bs4 import BeautifulSoup"
   ]
  },
  {
   "cell_type": "code",
   "execution_count": 138,
   "id": "bdc2b06c-f91e-4940-a4ed-865c4ac3663e",
   "metadata": {},
   "outputs": [],
   "source": [
    "document = BeautifulSoup(html_string, \"html.parser\")"
   ]
  },
  {
   "cell_type": "code",
   "execution_count": 139,
   "id": "6aadba30-b98d-4cc9-8ebb-d16223784d9d",
   "metadata": {},
   "outputs": [
    {
     "data": {
      "text/plain": [
       "'\"cardigan\" lyrics'"
      ]
     },
     "execution_count": 139,
     "metadata": {},
     "output_type": "execute_result"
    }
   ],
   "source": [
    "document.find(\"h1\").text"
   ]
  },
  {
   "cell_type": "code",
   "execution_count": 140,
   "id": "2464fb9b-3988-4501-a7c8-df912996e79a",
   "metadata": {},
   "outputs": [
    {
     "data": {
      "text/plain": [
       "[<h2><a href=\"//www.azlyrics.com/t/taylorswift.html\"><b>Taylor Swift Lyrics</b></a></h2>]"
      ]
     },
     "execution_count": 140,
     "metadata": {},
     "output_type": "execute_result"
    }
   ],
   "source": [
    "document.find_all(\"h2\")"
   ]
  },
  {
   "cell_type": "code",
   "execution_count": 141,
   "id": "5e9fdbe4-98fe-4f29-ae8e-a8451fe96aa8",
   "metadata": {},
   "outputs": [
    {
     "name": "stdout",
     "output_type": "stream",
     "text": [
      "\n",
      " \n",
      "Vintage tee, brand new phone \n",
      "High heels on cobblestones \n",
      "When you are young, they assume you know nothing \n",
      "Sequin smile, black lipstick \n",
      "Sensual politics \n",
      "When you are young, they assume you know nothing \n",
      " \n",
      "But I knew you \n",
      "Dancing in your Levi's \n",
      "Drunk under a streetlight, I \n",
      "I knew you \n",
      "Hand under my sweatshirt \n",
      "Baby, kiss it better, I \n",
      " \n",
      "And when I felt like I was an old cardigan under someone's bed \n",
      "You put me on and said I was your favorite \n",
      "A friend to all is a friend to none \n",
      "Chase two girls, lose the one \n",
      "When you are young, they assume you know nothing \n",
      " \n",
      "But I knew you \n",
      "Playing hide-and-seek and \n",
      "Giving me your weekends \n",
      "I, I knew you \n",
      "Your heartbeat on the High Line \n",
      "Once in twenty lifetimes, I \n",
      " \n",
      "And when I felt like I was an old cardigan under someone's bed \n",
      "You put me on and said I was your favorite \n",
      " \n",
      "To kiss in cars and downtown bars \n",
      "Was all we needed \n",
      "You drew stars around my scars \n",
      "But now I'm bleeding \n",
      " \n",
      "'Cause I knew you \n",
      "Stepping on the last train \n",
      "Marked me like a bloodstain, I \n",
      "I knew you \n",
      "Tried to change the ending \n",
      "Peter losing Wendy \n",
      "I, I knew you \n",
      "Leaving like a father \n",
      "Running like water, I \n",
      "And when you are young, they assume you know nothing \n",
      " \n",
      "But I knew you'd linger like a tattoo kiss \n",
      "I knew you'd haunt all of my what-ifs \n",
      "The smell of smoke would hang around this long \n",
      "'Cause I knew everything when I was young \n",
      "I knew I'd curse you for the longest time \n",
      "Chasing shadows in the grocery line \n",
      "I knew you'd miss me once the thrill expired \n",
      "And you'd be standing in my front porch light \n",
      "And I knew you'd come back to me \n",
      "You'd come back to me \n",
      "And you'd come back to me \n",
      "And you'd come back \n",
      " \n",
      "And when I felt like I was an old cardigan under someone's bed \n",
      "You put me on and said I was your favorite\n",
      "\n",
      "\n"
     ]
    }
   ],
   "source": [
    "lyrics_tag = document.find_all(\"div\", attrs={\"class\":None, \"id\": None})\n",
    "\n",
    "lyrics = []\n",
    "for content in lyrics_tag:\n",
    "    line = content.get_text(separator=\" \")\n",
    "    lyrics.append(line)\n",
    "\n",
    "for content in lyrics:\n",
    "    print(content)"
   ]
  },
  {
   "cell_type": "code",
   "execution_count": 142,
   "id": "986fc43b-063b-4e2b-8c67-3a1d668af492",
   "metadata": {},
   "outputs": [
    {
     "name": "stdout",
     "output_type": "stream",
     "text": [
      "\"cardigan\" lyrics\n"
     ]
    }
   ],
   "source": [
    "song_title = document.find('h1').text\n",
    "print(song_title)"
   ]
  },
  {
   "cell_type": "code",
   "execution_count": 143,
   "id": "fa1e2912-1f40-4f67-9385-13bc51528c14",
   "metadata": {},
   "outputs": [
    {
     "name": "stdout",
     "output_type": "stream",
     "text": [
      "Album: \"folklore\"(2020)\n",
      "Songs:\n",
      "- the 1 (/lyrics/taylorswift/the1.html)\n",
      "- cardigan (/lyrics/taylorswift/cardigan.html)\n",
      "- the last great american dynasty (/lyrics/taylorswift/thelastgreatamericandynasty.html)\n",
      "- exile (/lyrics/taylorswift/exile.html)\n",
      "- my tears ricochet (/lyrics/taylorswift/mytearsricochet.html)\n",
      "- mirrorball (/lyrics/taylorswift/mirrorball.html)\n",
      "- seven (/lyrics/taylorswift/seven.html)\n",
      "- august (/lyrics/taylorswift/august.html)\n",
      "- this is me trying (/lyrics/taylorswift/thisismetrying.html)\n",
      "- illicit affairs (/lyrics/taylorswift/illicitaffairs.html)\n",
      "- invisible string (/lyrics/taylorswift/invisiblestring.html)\n",
      "- mad woman (/lyrics/taylorswift/madwoman.html)\n",
      "- epiphany (/lyrics/taylorswift/epiphany.html)\n",
      "- betty (/lyrics/taylorswift/betty.html)\n",
      "- peace (/lyrics/taylorswift/peace.html)\n",
      "- hoax (/lyrics/taylorswift/hoax.html)\n",
      "- the lakes (/lyrics/taylorswift/thelakes.html)\n"
     ]
    }
   ],
   "source": [
    "\n",
    "\n",
    "# Find the target <div> with the specified class\n",
    "album_div = document.find(\"div\", class_=\"panel songlist-panel noprint\")\n",
    "\n",
    "if album_div:\n",
    "    # Extract album title and clean it up\n",
    "    album_title = album_div.find(\"div\", class_=\"songinalbum_title\").get_text(strip=True)\n",
    "    \n",
    "    # Clean album title (remove any unwanted text like \"album:\" or extra spaces)\n",
    "    album_title = re.sub(r'album:\\s*', '', album_title)  # Removes \"album:\" prefix\n",
    "    \n",
    "    # Extract and clean up the song items\n",
    "    song_items = album_div.find_all(\"div\", class_=\"listalbum-item\")\n",
    "    \n",
    "    # Clean songs and their URLs\n",
    "    songs = [{\"title\": song.a.get_text(strip=True), \"url\": song.a[\"href\"]} for song in song_items if song.a]\n",
    "    \n",
    "    # Print the cleaned album and song list\n",
    "    print(f\"Album: {album_title}\")\n",
    "    print(\"Songs:\")\n",
    "    for song in songs:\n",
    "        # Clean up song titles (e.g., removing any unwanted spaces or characters)\n",
    "        cleaned_title = re.sub(r'\\s+', ' ', song['title']).strip()  # Replaces multiple spaces with a single space\n",
    "        print(f\"- {cleaned_title} ({song['url']})\")\n"
   ]
  },
  {
   "cell_type": "code",
   "execution_count": 144,
   "id": "5ca01a2d-0d8b-492f-9bf4-7e51bef68d6c",
   "metadata": {},
   "outputs": [
    {
     "name": "stdout",
     "output_type": "stream",
     "text": [
      "Writer(s): Aaron Brooking Dessner, Taylor A. Swift\n"
     ]
    }
   ],
   "source": [
    "writers = document.find_all(\"div\", attrs={\"class\": \"smt\"})\n",
    "\n",
    "credits = []\n",
    "for content in writers:\n",
    "    # Extract the text from the <small> tag inside the div\n",
    "    small_tag = content.find(\"small\")\n",
    "    if small_tag:\n",
    "        line = small_tag.get_text(separator=\" \").strip()\n",
    "        credits.append(line)\n",
    "\n",
    "# Print the extracted credits\n",
    "for credit in credits:\n",
    "    print(credit)\n"
   ]
  },
  {
   "cell_type": "code",
   "execution_count": 160,
   "id": "c495095f-7fce-438a-9c45-7e5b735899e3",
   "metadata": {},
   "outputs": [
    {
     "name": "stdout",
     "output_type": "stream",
     "text": [
      "CSV file has been written successfully!\n"
     ]
    }
   ],
   "source": [
    "import csv\n",
    "\n",
    "# Sample data (replace these with your actual scraped data)\n",
    "song_title = document.find(\"h1\").text\n",
    "writing_credits = credits\n",
    "lyrics = lyrics\n",
    "tracklist = songs\n",
    "\n",
    "# Assuming tracklist is a list of dictionaries or similar\n",
    "tracklist = [{\"song\": \"the 1\"}, {\"song\": \"cardigan\"}, {\"song\": \"the last great american dynasty\"}]\n",
    "\n",
    "# Extract song names from the tracklist (if necessary)\n",
    "tracklist = [song[\"song\"] for song in tracklist]  # Convert to list of strings\n",
    "\n",
    "# Prepare the CSV data (you can change this to your actual data structure)\n",
    "data = [\n",
    "    [\"Title\", \"Writing Credits\", \"Lyrics\", \"Tracklist\"],  # Header row\n",
    "    [song_title, writing_credits, lyrics, ', '.join(tracklist)]  # Data row\n",
    "]\n",
    "\n",
    "# Write to CSV file\n",
    "with open('taylor_swift_cardigan_lyrics.csv', 'w', newline='', encoding='utf-8') as file:\n",
    "    writer = csv.writer(file)\n",
    "    writer.writerows(data)\n",
    "\n",
    "print(\"CSV file has been written successfully!\")\n",
    "\n"
   ]
  },
  {
   "cell_type": "code",
   "execution_count": null,
   "id": "636581e3-42dc-48ab-a85d-6667761b1955",
   "metadata": {},
   "outputs": [],
   "source": []
  }
 ],
 "metadata": {
  "kernelspec": {
   "display_name": "Python 3 (ipykernel)",
   "language": "python",
   "name": "python3"
  },
  "language_info": {
   "codemirror_mode": {
    "name": "ipython",
    "version": 3
   },
   "file_extension": ".py",
   "mimetype": "text/x-python",
   "name": "python",
   "nbconvert_exporter": "python",
   "pygments_lexer": "ipython3",
   "version": "3.12.4"
  }
 },
 "nbformat": 4,
 "nbformat_minor": 5
}
